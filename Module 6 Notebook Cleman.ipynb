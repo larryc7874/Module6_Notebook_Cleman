{
 "cells": [
  {
   "cell_type": "markdown",
   "id": "a0755e6b",
   "metadata": {},
   "source": [
    "# Data Science Tools and Ecosystem"
   ]
  },
  {
   "cell_type": "markdown",
   "id": "6a2069f6",
   "metadata": {},
   "source": [
    "In this notebook, Data Science Toos and Ecosystem are summarized."
   ]
  },
  {
   "cell_type": "markdown",
   "id": "607277e7",
   "metadata": {},
   "source": [
    "Some of the popular languages that Data Scientist use are:\n",
    "-R\n",
    "-Python\n",
    "-SQL\n",
    "-Javascript\n",
    "-C/C++\n",
    "-Scala\n",
    "-SAS\n",
    "-MATLAB\n",
    "-Go\n",
    "-Swift\n",
    "-Julia"
   ]
  },
  {
   "cell_type": "markdown",
   "id": "00424c1b",
   "metadata": {},
   "source": [
    "Some of the commonly used libraries used by Data Scientists include:\n",
    "-NumPy\n",
    "-Keras\n",
    "-Matplotlib\n",
    "-Pandas\n",
    "-PyTorch\n",
    "-SciPy\n",
    "-Theano\n",
    "-TensorFlow\n"
   ]
  },
  {
   "cell_type": "markdown",
   "id": "329824ed",
   "metadata": {},
   "source": [
    "|Data Science Tools|\n",
    "|..................|\n",
    "|Apache Spark|\n",
    "|Julie|\n",
    "|Jupyter Notebook|\n",
    "|Keras|\n",
    "|Matlab|\n",
    "|PyTorch|\n",
    "|Python|\n",
    "|Weka|"
   ]
  },
  {
   "cell_type": "markdown",
   "id": "dc9b43c8",
   "metadata": {},
   "source": [
    "### Below are a few examples of evaluating arithmetic expressions in Python."
   ]
  },
  {
   "cell_type": "code",
   "execution_count": 3,
   "id": "dcfd0285",
   "metadata": {},
   "outputs": [
    {
     "data": {
      "text/plain": [
       "17"
      ]
     },
     "execution_count": 3,
     "metadata": {},
     "output_type": "execute_result"
    }
   ],
   "source": [
    "# This is a simple arithmetic expression to mulitply then add integers #\n",
    "(3*4)+5"
   ]
  },
  {
   "cell_type": "code",
   "execution_count": 4,
   "id": "11d7f0df",
   "metadata": {},
   "outputs": [
    {
     "data": {
      "text/plain": [
       "3.3333333333333335"
      ]
     },
     "execution_count": 4,
     "metadata": {},
     "output_type": "execute_result"
    }
   ],
   "source": [
    "# This will convert 200 minutes to hours by dividing by 60 #\n",
    "200/60"
   ]
  },
  {
   "cell_type": "markdown",
   "id": "8358dca2",
   "metadata": {},
   "source": [
    "## Author\n",
    "Larry Cleman"
   ]
  }
 ],
 "metadata": {
  "kernelspec": {
   "display_name": "Python 3 (ipykernel)",
   "language": "python",
   "name": "python3"
  },
  "language_info": {
   "codemirror_mode": {
    "name": "ipython",
    "version": 3
   },
   "file_extension": ".py",
   "mimetype": "text/x-python",
   "name": "python",
   "nbconvert_exporter": "python",
   "pygments_lexer": "ipython3",
   "version": "3.10.9"
  }
 },
 "nbformat": 4,
 "nbformat_minor": 5
}
